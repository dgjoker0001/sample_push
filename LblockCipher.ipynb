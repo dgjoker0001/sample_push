{
  "nbformat": 4,
  "nbformat_minor": 0,
  "metadata": {
    "colab": {
      "name": "LblockCipher.ipynb",
      "provenance": [],
      "collapsed_sections": []
    },
    "kernelspec": {
      "name": "python3",
      "display_name": "Python 3"
    }
  },
  "cells": [
    {
      "cell_type": "code",
      "metadata": {
        "id": "D_reNaIlsqZp"
      },
      "source": [
        "# hexadecimal to binary\n",
        "def hex2bin(h):\n",
        "    mp = {'0': \"0000\",\n",
        "          '1': \"0001\",\n",
        "          '2': \"0010\",\n",
        "          '3': \"0011\",\n",
        "          '4': \"0100\",\n",
        "          '5': \"0101\",\n",
        "          '6': \"0110\",\n",
        "          '7': \"0111\",\n",
        "          '8': \"1000\",\n",
        "          '9': \"1001\",\n",
        "          'A': \"1010\",\n",
        "          'B': \"1011\",\n",
        "          'C': \"1100\",\n",
        "          'D': \"1101\",\n",
        "          'E': \"1110\",\n",
        "          'F': \"1111\"}\n",
        "    bi = \"\"\n",
        "    for i in range(0, len(h), 1):\n",
        "        bi = bi + mp[h[i]]\n",
        "    return bi"
      ],
      "execution_count": 22,
      "outputs": []
    },
    {
      "cell_type": "code",
      "metadata": {
        "id": "qiokr1xaygjo"
      },
      "source": [
        "# Binary to hexadecimal\n",
        "def bin2hex(b):\n",
        "    mp = {\"0000\": '0',\n",
        "          \"0001\": '1',\n",
        "          \"0010\": '2',\n",
        "          \"0011\": '3',\n",
        "          \"0100\": '4',\n",
        "          \"0101\": '5',\n",
        "          \"0110\": '6',\n",
        "          \"0111\": '7',\n",
        "          \"1000\": '8',\n",
        "          \"1001\": '9',\n",
        "          \"1010\": 'A',\n",
        "          \"1011\": 'B',\n",
        "          \"1100\": 'C',\n",
        "          \"1101\": 'D',\n",
        "          \"1110\": 'E',\n",
        "          \"1111\": 'F'}\n",
        "    hd = \"\"\n",
        "    for i in range(0, len(b), 4):\n",
        "        ch = \"\"\n",
        "        ch = ch + b[i]\n",
        "        ch = ch + b[i + 1]\n",
        "        ch = ch + b[i + 2]\n",
        "        ch = ch + b[i + 3]\n",
        "        hd = hd + mp[ch]\n",
        "    return hd"
      ],
      "execution_count": 23,
      "outputs": []
    },
    {
      "cell_type": "code",
      "metadata": {
        "id": "9rQWR_twyjq0"
      },
      "source": [
        "# Binary to decimal\n",
        "def bin2dec(binary):\n",
        "    decimal, i, n = 0, 0, 0\n",
        "    while binary != 0:\n",
        "        dec = binary % 10\n",
        "        decimal = decimal + dec * pow(2, i)\n",
        "        binary = binary // 10\n",
        "        i += 1\n",
        "    return decimal"
      ],
      "execution_count": 24,
      "outputs": []
    },
    {
      "cell_type": "code",
      "metadata": {
        "id": "tnkpRtPey0Oz"
      },
      "source": [
        "# decimal to binary\n",
        "def dec2bin(num):\n",
        "    res = bin(num).replace(\"0b\", \"\")\n",
        "    if len(res) % 4 != 0:\n",
        "        div = len(res) / 4\n",
        "        div = int(div)\n",
        "        counter = (4 * (div + 1)) - len(res)\n",
        "        for i in range(0, counter):\n",
        "            res = '0' + res\n",
        "    return res"
      ],
      "execution_count": 25,
      "outputs": []
    },
    {
      "cell_type": "code",
      "metadata": {
        "id": "oKTpWPs6cgmF"
      },
      "source": [
        "# hexadecimal to decimal\n",
        "def hex2dec(t):\n",
        "    if t == \"0\":\n",
        "        return 0\n",
        "    elif t == \"1\":\n",
        "        return 1\n",
        "    elif t == \"2\":\n",
        "        return 2\n",
        "    elif t == \"3\":\n",
        "        return 3\n",
        "    elif t == \"4\":\n",
        "        return 4\n",
        "    elif t == \"5\":\n",
        "        return 5\n",
        "    elif t == \"6\":\n",
        "        return 6\n",
        "    elif t == \"7\":\n",
        "        return 7\n",
        "    elif t == \"8\":\n",
        "        return 8\n",
        "    elif t == \"9\":\n",
        "        return 9\n",
        "    elif t == \"A\":\n",
        "        return 10\n",
        "    elif t == \"B\":\n",
        "        return 11\n",
        "    elif t == \"C\":\n",
        "        return 12\n",
        "    elif t == \"D\":\n",
        "        return 13\n",
        "    elif t == \"E\":\n",
        "        return 14\n",
        "    elif t == \"F\":\n",
        "        return 15\n",
        "    else:\n",
        "        print(\"error\")"
      ],
      "execution_count": 26,
      "outputs": []
    },
    {
      "cell_type": "code",
      "metadata": {
        "id": "WEmMwexVfuc0"
      },
      "source": [
        "# decimal to hexadecimal\n",
        "def dec2hex(t):\n",
        "    if t == 0:\n",
        "        return \"0\"\n",
        "    elif t == 1:\n",
        "        return \"1\"\n",
        "    elif t == 2:\n",
        "        return \"2\"\n",
        "    elif t == 3:\n",
        "        return \"3\"\n",
        "    elif t == 4:\n",
        "        return \"4\"\n",
        "    elif t == 5:\n",
        "        return \"5\"\n",
        "    elif t == 6:\n",
        "        return \"6\"\n",
        "    elif t == 7:\n",
        "        return \"7\"\n",
        "    elif t == 8:\n",
        "        return \"8\"\n",
        "    elif t == 9:\n",
        "        return \"9\"\n",
        "    elif t == 10:\n",
        "        return \"A\"\n",
        "    elif t == 11:\n",
        "        return \"B\"\n",
        "    elif t == 12:\n",
        "        return \"C\"\n",
        "    elif t == 13:\n",
        "        return \"D\"\n",
        "    elif t == 14:\n",
        "        return \"E\"\n",
        "    elif t == 15:\n",
        "        return \"F\"\n",
        "    else:\n",
        "        print(\"error\")"
      ],
      "execution_count": 27,
      "outputs": []
    },
    {
      "cell_type": "code",
      "metadata": {
        "id": "p8aJGMrcy2mY"
      },
      "source": [
        "# n-bit left shift\n",
        "def shift_left(k, nth_shifts):\n",
        "    s = \"\"\n",
        "    for i in range(nth_shifts):\n",
        "        for j in range(1, len(k)):\n",
        "            s = s + k[j]\n",
        "        s = s + k[0]\n",
        "        k = s\n",
        "        s = \"\"\n",
        "    return k"
      ],
      "execution_count": 28,
      "outputs": []
    },
    {
      "cell_type": "code",
      "metadata": {
        "id": "cxR2_waAzFU4"
      },
      "source": [
        "# xor of a and b\n",
        "def xor(a, b):\n",
        "    ans = \"\"\n",
        "    for i in range(len(a)):\n",
        "        if a[i] == b[i]:\n",
        "            ans = ans + \"0\"\n",
        "        else:\n",
        "            ans = ans + \"1\"\n",
        "    return ans"
      ],
      "execution_count": 29,
      "outputs": []
    },
    {
      "cell_type": "code",
      "metadata": {
        "id": "TeQ4me7Bk17K"
      },
      "source": [
        "# list to string\n",
        "def list_to_string(s):\n",
        "    # initialize an empty string\n",
        "    str1 = \"\"\n",
        "    # traverse in the string\n",
        "    for ele in s:\n",
        "        str1 += ele\n",
        "        # return string\n",
        "    return str1"
      ],
      "execution_count": 30,
      "outputs": []
    },
    {
      "cell_type": "code",
      "metadata": {
        "id": "Lic2riKzzHR7"
      },
      "source": [
        "# S box for Lblock\n",
        "s0 = [0xE, 9, 0xF, 0, 0xD, 4, 0xA, 0xB, 1, 2, 8, 3, 7, 6, 0xC, 5]\n",
        "s1 = [4, 0xB, 0xE, 9, 0xF, 0xD, 0, 0xA, 7, 0xC, 5, 6, 2, 8, 1, 3]\n",
        "s2 = [1, 0xE, 7, 0xC, 0xF, 0xD, 0, 6, 0xB, 5, 9, 3, 2, 4, 8, 0xA]\n",
        "s3 = [7, 6, 8, 0xB, 0, 0xF, 3, 0xE, 9, 0xA, 0xC, 0xD, 5, 2, 4, 1]\n",
        "s4 = [0xE, 5, 0xF, 0, 7, 2, 0xC, 0xD, 1, 8, 4, 9, 0xB, 0xA, 6, 3]\n",
        "s5 = [2, 0xD, 0xB, 0xC, 0xF, 0xE, 0, 9, 7, 0xA, 6, 3, 1, 8, 4, 5]\n",
        "s6 = [0xB, 9, 4, 0xE, 0, 0xF, 0xA, 0xD, 6, 0xC, 5, 7, 3, 8, 1, 2]\n",
        "s7 = [0xD, 0xA, 0xF, 0, 0xE, 4, 9, 0xB, 2, 1, 8, 3, 7, 5, 0xC, 6]\n",
        "s8 = [8, 7, 0xE, 5, 0xF, 0xD, 0, 6, 0xB, 0xC, 9, 0xA, 2, 4, 1, 3]\n",
        "s9 = [0xB, 5, 0xF, 0, 7, 2, 9, 0xD, 4, 8, 1, 0xC, 0xE, 0xA, 3, 6]"
      ],
      "execution_count": 31,
      "outputs": []
    },
    {
      "cell_type": "code",
      "metadata": {
        "id": "E_v3SYU-LheE"
      },
      "source": [
        "# decimal to 5 digit binary converter, for key generation\n",
        "def int2bin(u):\n",
        "    u = dec2bin(u)\n",
        "    if len(u) < 5:\n",
        "        if len(u) == 1:\n",
        "            u += \"0000\"\n",
        "            u = shift_left(u, 1)\n",
        "        if len(u) == 2:\n",
        "            u += \"000\"\n",
        "            u = shift_left(u, 2)\n",
        "        if len(u) == 3:\n",
        "            u += \"00\"\n",
        "            u = shift_left(u, 3)\n",
        "        if len(u) == 4:\n",
        "            u += \"0\"\n",
        "            u = shift_left(u, 4)\n",
        "    else:\n",
        "        u = u[3:]\n",
        "    return u"
      ],
      "execution_count": 32,
      "outputs": []
    },
    {
      "cell_type": "code",
      "metadata": {
        "id": "MDz1MovU4ogR"
      },
      "source": [
        "# Round Function F\n",
        "def F(X, K):\n",
        "    U = xor(X, K)\n",
        "    U = bin2hex(U)\n",
        "    U = S(U)\n",
        "    U = P(U)\n",
        "    U = hex2bin(U)\n",
        "    return U"
      ],
      "execution_count": 33,
      "outputs": []
    },
    {
      "cell_type": "code",
      "metadata": {
        "id": "_Ty5Y7L2DKnl"
      },
      "source": [
        "# confusion function S\n",
        "def S(Y):\n",
        "    Z = [0, 0, 0, 0, 0, 0, 0, 0]\n",
        "    Z[0] = dec2hex(s7[hex2dec(Y[0])])\n",
        "    Z[1] = dec2hex(s6[hex2dec(Y[1])])\n",
        "    Z[2] = dec2hex(s5[hex2dec(Y[2])])\n",
        "    Z[3] = dec2hex(s4[hex2dec(Y[3])])\n",
        "    Z[4] = dec2hex(s3[hex2dec(Y[4])])\n",
        "    Z[5] = dec2hex(s2[hex2dec(Y[5])])\n",
        "    Z[6] = dec2hex(s1[hex2dec(Y[6])])\n",
        "    Z[7] = dec2hex(s0[hex2dec(Y[7])])\n",
        "    T = list_to_string(Z)\n",
        "    return T"
      ],
      "execution_count": 34,
      "outputs": []
    },
    {
      "cell_type": "code",
      "metadata": {
        "id": "dNIE4Owrlft4"
      },
      "source": [
        "# diffusion function P\n",
        "def P(Z):\n",
        "    L = [Z[1], Z[3], Z[0], Z[2], Z[5], Z[7], Z[4], Z[6]]\n",
        "    V = list_to_string(L)\n",
        "    return V"
      ],
      "execution_count": 35,
      "outputs": []
    },
    {
      "cell_type": "code",
      "metadata": {
        "id": "oLrOOxQ3FURa"
      },
      "source": [
        "# encryption round key generator\n",
        "def encrypt_key(i, e_key):\n",
        "    if i == 0:\n",
        "        return e_key\n",
        "    else:\n",
        "        e_key = shift_left(e_key, 29)\n",
        "        e_key = bin2hex(e_key)\n",
        "        r1 = dec2hex(s9[(hex2dec(e_key[0]))])\n",
        "        r2 = dec2hex(s8[(hex2dec(e_key[1]))])\n",
        "        e_key = r1 + r2 + e_key[2:80]\n",
        "        e_key = hex2bin(e_key)\n",
        "        t = int2bin(i)\n",
        "        e_key = e_key[0:29] + xor(e_key[29:34], t) + e_key[34:80]\n",
        "        return e_key"
      ],
      "execution_count": 36,
      "outputs": []
    },
    {
      "cell_type": "code",
      "metadata": {
        "id": "0iDFDxvuecmd"
      },
      "source": [
        "# decryption round key generator\n",
        "def decrypt_key(i, d_key):\n",
        "    if i == 0:\n",
        "        return d_key\n",
        "    for j in range(2, i + 2):\n",
        "        d_key = encrypt_key(j - 1, d_key)\n",
        "    return d_key"
      ],
      "execution_count": 37,
      "outputs": []
    },
    {
      "cell_type": "code",
      "metadata": {
        "id": "wWglx9uuM3v4"
      },
      "source": [
        "# Encryption Function\n",
        "def encrypt(pt, en_key):\n",
        "    # --hex to binary\n",
        "    en_key = hex2bin(en_key)\n",
        "    pt = hex2bin(pt)\n",
        "\n",
        "    lpt = pt[0:32]\n",
        "    rpt = pt[32:64]\n",
        "\n",
        "    for i in range(2, 34):\n",
        "        en_key = encrypt_key(i - 2, en_key)\n",
        "        K = en_key[0:32]\n",
        "        temp = lpt\n",
        "        lpt = xor(F(lpt, K), shift_left(rpt, 8))\n",
        "        rpt = temp\n",
        "    C = rpt + lpt\n",
        "    C = bin2hex(C)\n",
        "    return C"
      ],
      "execution_count": 38,
      "outputs": []
    },
    {
      "cell_type": "code",
      "metadata": {
        "id": "GAFan4frNg94"
      },
      "source": [
        "# Decryption Function\n",
        "def decrypt(c, de_key):\n",
        "    # --hex to binary\n",
        "    de_key = hex2bin(de_key)\n",
        "    c = hex2bin(c)\n",
        "\n",
        "    lpt = c[0:32]\n",
        "    rpt = c[32:64]\n",
        "\n",
        "    # Key generation and decryption\n",
        "    for i in range(31, -1, -1):\n",
        "        key1 = decrypt_key(i, de_key)\n",
        "        K = key1[0:32]\n",
        "        temp = lpt\n",
        "        lpt = shift_left(xor(F(lpt, K), rpt), 24)\n",
        "        rpt = temp\n",
        "    dm = rpt + lpt\n",
        "    dm = bin2hex(dm)\n",
        "    return dm"
      ],
      "execution_count": 39,
      "outputs": []
    },
    {
      "cell_type": "code",
      "metadata": {
        "id": "jEPD13jyLkhu",
        "outputId": "2dd0657a-a1b9-4b8f-9870-210359b2be9e",
        "colab": {
          "base_uri": "https://localhost:8080/",
          "height": 101
        }
      },
      "source": [
        "# demo 1\n",
        "plaintext = \"0123456789ABCDEF\"\n",
        "key = \"0123456789ABCDEFFEDC\"\n",
        "print(\"Plaintext in hexadecimal code = \", plaintext)\n",
        "print(\"\")\n",
        "ct = encrypt(plaintext, key)\n",
        "print(\"encrypted message = \", ct)\n",
        "print(\"\")\n",
        "m = decrypt(ct, key)\n",
        "print(\"decrypted message = \", m)"
      ],
      "execution_count": 40,
      "outputs": [
        {
          "output_type": "stream",
          "text": [
            "Plaintext in hexadecimal code =  0123456789ABCDEF\n",
            "\n",
            "encrypted message =  4B7179D8EBEE0C26\n",
            "\n",
            "decrypted message =  0123456789ABCDEF\n"
          ],
          "name": "stdout"
        }
      ]
    },
    {
      "cell_type": "code",
      "metadata": {
        "id": "0zLCc_B86h6g",
        "outputId": "00a01592-733a-4d12-d564-3ac7b5daef9b",
        "colab": {
          "base_uri": "https://localhost:8080/",
          "height": 101
        }
      },
      "source": [
        "# demo 2\n",
        "plaintext = \"0000000000000000\"\n",
        "key = \"00000000000000000000\"\n",
        "print(\"Plaintext in hexadecimal code = \", plaintext)\n",
        "print(\"\")\n",
        "ct = encrypt(plaintext, key)\n",
        "print(\"encrypted message = \", ct)\n",
        "print(\"\")\n",
        "m = decrypt(ct, key)\n",
        "print(\"decrypted message = \", m)"
      ],
      "execution_count": 41,
      "outputs": [
        {
          "output_type": "stream",
          "text": [
            "Plaintext in hexadecimal code =  0000000000000000\n",
            "\n",
            "encrypted message =  C218185308E75BCD\n",
            "\n",
            "decrypted message =  0000000000000000\n"
          ],
          "name": "stdout"
        }
      ]
    },
    {
      "cell_type": "code",
      "metadata": {
        "id": "wi_bXCtvA5R2"
      },
      "source": [
        ""
      ],
      "execution_count": null,
      "outputs": []
    }
  ]
}